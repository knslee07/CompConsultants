{
 "cells": [
  {
   "cell_type": "code",
   "execution_count": 1,
   "metadata": {},
   "outputs": [],
   "source": [
    "import pandas as pd"
   ]
  },
  {
   "cell_type": "markdown",
   "metadata": {},
   "source": [
    "df1=pd.read_pickle(\"CC_df_0-250.pkl\")\n",
    "df2=pd.read_pickle(\"CC_df_250-500.pkl\")\n",
    "df3=pd.read_pickle(\"CC_df_500-750.pkl\")\n",
    "df4=pd.read_pickle(\"CC_df_750-1000.pkl\")\n",
    "df5=pd.read_pickle(\"CC_df_1000-1250.pkl\")\n",
    "df6=pd.read_pickle(\"CC_df_1250-1600.pkl\")\n",
    "df=pd.concat([df1, df2, df3, df4, df5, df6])\n",
    "df.to_pickle(\"CC_df_all.pkl\")"
   ]
  },
  {
   "cell_type": "code",
   "execution_count": 33,
   "metadata": {},
   "outputs": [],
   "source": [
    "df=pd.read_pickle(\"CC_df_all.pkl\")"
   ]
  },
  {
   "cell_type": "code",
   "execution_count": 3,
   "metadata": {},
   "outputs": [],
   "source": [
    "def hash_cc():\n",
    "    df['CC_1']=df['CC2'].apply(lambda x: list(x)[0] if len(list(x))>0 else None)\n",
    "    df['CC_2']=df['CC2'].apply(lambda x: list(x)[1] if len(list(x))>1 else None)\n",
    "    df['CC_3']=df['CC2'].apply(lambda x: list(x)[2] if len(list(x))>2 else None)\n",
    "    df['CC_4']=df['CC2'].apply(lambda x: list(x)[3] if len(list(x))>3 else None)\n",
    "    df['CC_5']=df['CC2'].apply(lambda x: list(x)[4] if len(list(x))>4 else None)\n",
    "    df['CC_6']=df['CC2'].apply(lambda x: list(x)[5] if len(list(x))>5 else None)\n",
    "    return 1"
   ]
  },
  {
   "cell_type": "code",
   "execution_count": 4,
   "metadata": {},
   "outputs": [
    {
     "data": {
      "text/plain": [
       "1"
      ]
     },
     "execution_count": 4,
     "metadata": {},
     "output_type": "execute_result"
    }
   ],
   "source": [
    "hash_cc()"
   ]
  },
  {
   "cell_type": "code",
   "execution_count": 52,
   "metadata": {},
   "outputs": [],
   "source": [
    "CC_1_set = set(df['CC_1'].tolist())\n",
    "CC_2_set = set(df['CC_2'].tolist())\n",
    "CC_3_set = set(df['CC_3'].tolist())\n",
    "CC_4_set = set(df['CC_4'].tolist())\n",
    "CC_5_set = set(df['CC_5'].tolist())\n",
    "CC_6_set = set(df['CC_6'].tolist())"
   ]
  },
  {
   "cell_type": "code",
   "execution_count": 53,
   "metadata": {},
   "outputs": [],
   "source": [
    "CC_set=set.union(CC_1_set, CC_2_set, CC_3_set, CC_4_set, CC_5_set, CC_6_set)"
   ]
  },
  {
   "cell_type": "code",
   "execution_count": 54,
   "metadata": {},
   "outputs": [
    {
     "data": {
      "text/plain": [
       "79"
      ]
     },
     "execution_count": 54,
     "metadata": {},
     "output_type": "execute_result"
    }
   ],
   "source": [
    "len(CC_set)\r\n",
    "# initial CC_set is 435\r\n",
    "# after the first run, it is 142\r\n",
    "# after the second it is 92"
   ]
  },
  {
   "cell_type": "code",
   "execution_count": null,
   "metadata": {},
   "outputs": [],
   "source": [
    "#CC_set"
   ]
  },
  {
   "cell_type": "code",
   "execution_count": 34,
   "metadata": {},
   "outputs": [
    {
     "data": {
      "text/plain": [
       "1"
      ]
     },
     "execution_count": 34,
     "metadata": {},
     "output_type": "execute_result"
    }
   ],
   "source": [
    "df=pd.read_pickle('CC_df_all.pkl')\n",
    "df.drop(columns=['text', 'CC','CC1'], inplace=True)\n",
    "hash_cc()"
   ]
  },
  {
   "cell_type": "markdown",
   "metadata": {},
   "source": [
    "# Groundwork"
   ]
  },
  {
   "cell_type": "code",
   "execution_count": null,
   "metadata": {},
   "outputs": [],
   "source": [
    " 'THE CAP',\r\n",
    " 'THE COMPENSATION CONSULTANT',\r\n",
    " 'THE CONSULTANT',\r\n",
    " 'THE COOK',\r\n",
    ",\r\n",
    " 'THE HEWITT',\r\n",
    " 'THE HR CONSULTANT',\r\n",
    " 'THE HRC MEETINGS',\r\n",
    " 'THE INDEPENDENT CONSULTANT',\r\n",
    " 'THE MERCER',\r\n",
    "\r\n",
    " 'THE PWC',\r\n",
    " 'THE TOWERS'"
   ]
  },
  {
   "cell_type": "code",
   "execution_count": 35,
   "metadata": {},
   "outputs": [
    {
     "name": "stderr",
     "output_type": "stream",
     "text": [
      "100%|██████████| 6285/6285 [00:00<00:00, 16470.25it/s]\n",
      "100%|██████████| 6285/6285 [00:00<00:00, 16584.75it/s]\n",
      "100%|██████████| 6285/6285 [00:00<00:00, 16692.04it/s]\n",
      "100%|██████████| 6285/6285 [00:00<00:00, 16323.20it/s]\n",
      "100%|██████████| 6285/6285 [00:00<00:00, 16734.22it/s]\n",
      "100%|██████████| 6285/6285 [00:00<00:00, 16583.12it/s]\n"
     ]
    }
   ],
   "source": [
    "import re\r\n",
    "from tqdm.auto import tqdm\r\n",
    "\r\n",
    "regex1=re.compile(r'^THE\\s')\r\n",
    "#regex2=re.compile(r'ARTHUR J. GALLAGHER &')\r\n",
    "#regex3=re.compile(r'^MERCER')\r\n",
    "\r\n",
    "for n in range (1,7):    \r\n",
    "    for i, row in tqdm(df.iterrows(), total=len(df)):\r\n",
    "        try:\r\n",
    "            w=re.sub(r'^THE\\s','', str(row[f'CC_{n}']))\r\n",
    "            row[f'CC_{n}']=w\r\n",
    "        except:\r\n",
    "            continue\r\n",
    "            #row[f'CC_{n}']='FTI' # merged names will be coded differently"
   ]
  },
  {
   "cell_type": "code",
   "execution_count": null,
   "metadata": {},
   "outputs": [],
   "source": [
    "{'GALLAGHER BENEFIT SERVICES, INC.', 'JFR' , 'BOARD ADVISORY'} disappears"
   ]
  },
  {
   "cell_type": "markdown",
   "metadata": {},
   "source": [
    "# REMOVAL"
   ]
  },
  {
   "cell_type": "code",
   "execution_count": null,
   "metadata": {},
   "outputs": [],
   "source": [
    " 'CONSISTENT',\r\n",
    " 'CONSULTANT',\r\n",
    " 'CONSULTING',\r\n",
    " 'CONSULTS'\r\n",
    "  'HUMAN RESOURCE CONSULTING',\r\n",
    " 'HUMAN RESOURCE CONSULTING, LLC',\r\n",
    " 'CONSULTING GROUP, LLC'\r\n",
    "\r\n",
    " '& GOVERNANCE',\r\n",
    " 'ADVISER',\r\n",
    " 'ALVAREZ &',\r\n",
    " 'ASSOCIATES'\r\n",
    "\r\n",
    " 'CONSULTANT INDEPENDENCE POLICY'\r\n",
    "\r\n",
    " 'FACEBOOK'\r\n",
    "\r\n",
    " 'PARTNERS',\r\n",
    "\r\n",
    "\r\n",
    "'COMPENSATION STRATEGIES'"
   ]
  },
  {
   "cell_type": "code",
   "execution_count": 51,
   "metadata": {},
   "outputs": [
    {
     "name": "stderr",
     "output_type": "stream",
     "text": [
      "100%|██████████| 6285/6285 [00:00<00:00, 6937.97it/s]\n",
      "100%|██████████| 6285/6285 [00:00<00:00, 7006.44it/s]\n",
      "100%|██████████| 6285/6285 [00:00<00:00, 6978.24it/s]\n",
      "100%|██████████| 6285/6285 [00:00<00:00, 7041.94it/s]\n",
      "100%|██████████| 6285/6285 [00:00<00:00, 7073.16it/s]\n",
      "100%|██████████| 6285/6285 [00:00<00:00, 7109.93it/s]\n"
     ]
    }
   ],
   "source": [
    "black=['THE GOVERNANCE &',\r\n",
    " 'THE GOVERNANCE & NOMINATING',\r\n",
    " 'THE HARTFORD FINANCIAL SERVICES GROUP'\r\n",
    " 'THE MSCI US',\r\n",
    " 'THE MSCI US REIT INDEX',\r\n",
    " 'THE MSCI US REIT INDEX AND THE S&P'\r\n",
    " ,'TOTAL REWARDS PACKAGES'\r\n",
    " , 'UTILIZE AN INDEPENDENT COMPENSATION CONSULTANT',\r\n",
    " 'UTILIZE INDEPENDENT COMPENSATION CONSULTANT'\r\n",
    " ,'\\x95COMPENSATION'\r\n",
    " ]\r\n",
    "\r\n",
    "from tqdm.auto import tqdm\r\n",
    "for n in range (1,7):\r\n",
    "    regex1=re.compile(r'^& (PARTNERS,?\\s?(INC)?\\.?)$')\r\n",
    "    regex2=re.compile(r'^&?\\s?CO\\.?,?\\s?(INC)?\\.?$')\r\n",
    "    regex3=re.compile(r'\\d*[,.]\\d*')\r\n",
    "    regex4=re.compile(r'^\\d')\r\n",
    "    regex5=re.compile(r'^& ASSOCIATE(S)?\\s?(LLC)?$')\r\n",
    "    regex6=re.compile(r'^CONSULTING GROUP,? LLC\\.?')\r\n",
    "    regex7=re.compile(r'HUMAN RESOURCES? CONSULTING?,?\\s?(INC)?')\r\n",
    "    regex8=re.compile(r'HUMAN RESOURCES?\\s&')\r\n",
    "    regex9=re.compile(r'COMPENSATION\\sSTRATEGIES')\r\n",
    "    for i, row in tqdm(df.iterrows(), total=len(df)):\r\n",
    "        # newly added!!\r\n",
    "        if any(str(row[f'CC_{n}']) in w for w in black):\r\n",
    "            row[f'CC_{n}']=None\r\n",
    "            \r\n",
    "        if row[f'CC_{n}']=='CONSISTENT' or row[f'CC_{n}']=='CONSULTING' or row[f'CC_{n}']=='CONSULTANT' or row[f'CC_{n}']=='CONSULTS' or row[f'CC_{n}']=='COMPENSATION' or row[f'CC_{n}']=='HUMAN RESOURCE CONSULTING' or row[f'CC_{n}']=='HUMAN RESOURCE CONSULTING, LLC' or row[f'CC_{n}']=='OUR INDEPENDENT CONSULTANT' or row[f'CC_{n}']=='INDEPENDENT CONSULTANT' or row[f'CC_{n}']=='CONSULTING GROUP' or row[f'CC_{n}']=='INDEPENDENT':\r\n",
    "            row[f'CC_{n}']=None\r\n",
    "        if row[f'CC_{n}']=='CHRISTOPHER J. COUGHLIN' or row[f'CC_{n}']=='ADVISER' or row[f'CC_{n}']=='ASSOCIATES' or row[f'CC_{n}']=='ALVAREZ &' or row[f'CC_{n}']=='CHRO':\r\n",
    "            row[f'CC_{n}']=None\r\n",
    "        if row[f'CC_{n}']=='CONSULTANT INDEPENDENCE POLICY' or row[f'CC_{n}']=='FACEBOOK' or row[f'CC_{n}']=='GROUP' or row[f'CC_{n}']=='PARTNERS':\r\n",
    "            row[f'CC_{n}']=None\r\n",
    "\r\n",
    "\r\n",
    "        if regex1.search(str(row[f'CC_{n}'])):\r\n",
    "            row[f'CC_{n}']=None\r\n",
    "        if regex2.search(str(row[f'CC_{n}'])):\r\n",
    "            row[f'CC_{n}']=None\r\n",
    "        if regex3.search(str(row[f'CC_{n}'])):\r\n",
    "            row[f'CC_{n}']=None\r\n",
    "        if regex4.search(str(row[f'CC_{n}'])):\r\n",
    "            row[f'CC_{n}']=None\r\n",
    "        if regex5.search(str(row[f'CC_{n}'])):\r\n",
    "            row[f'CC_{n}']=None\r\n",
    "        if regex6.search(str(row[f'CC_{n}'])):\r\n",
    "            row[f'CC_{n}']=None\r\n",
    "        if regex7.search(str(row[f'CC_{n}'])):\r\n",
    "            row[f'CC_{n}']=None\r\n",
    "        if regex8.search(str(row[f'CC_{n}'])):\r\n",
    "            row[f'CC_{n}']=None\r\n",
    "        if regex9.search(str(row[f'CC_{n}'])):\r\n",
    "            row[f'CC_{n}']='COMPENSATION STRATEGIES'"
   ]
  },
  {
   "cell_type": "markdown",
   "metadata": {},
   "source": [
    "# Miscellaneous"
   ]
  },
  {
   "cell_type": "code",
   "execution_count": null,
   "metadata": {},
   "outputs": [],
   "source": [
    " 'SEMLER     BROSSY CONSULTING GROUP, LLC',\r\n",
    " 'SEMLER BROSSY',\r\n",
    " 'SEMLER BROSSY CONSULTING     GROUP, LLC',\r\n",
    " 'SEMLER BROSSY CONSULTING GROUP',\r\n",
    " 'SEMLER BROSSY CONSULTING GROUP LLC',\r\n",
    " 'SEMLER BROSSY CONSULTING GROUP, LLC',\r\n",
    " 'SEMLER BROSSY, LLC',\r\n",
    " 'SHEA',\r\n",
    " 'SHEA & ASSOCIATES',\r\n",
    " 'SMG',\r\n",
    " 'STEVEN',\r\n",
    " 'STEVEN HALL',\r\n",
    "\r\n",
    "  'PAY GOVERNANCE',\r\n",
    " 'PAY GOVERNANCE LLC',\r\n",
    " 'PAY GOVERNANCE, LLC'\r\n",
    " 'PAY'\r\n",
    "'GOVERNANCE LLC'\r\n",
    "  'THE HAY GROUP',\r\n",
    " 'THE SCHONBRAUN MCCANN GROUP'\r\n",
    "\r\n",
    " RADFORD\r\n",
    "\r\n",
    " 'CCA'\r\n",
    " 'CCA STRATEGIES'\r\n",
    "\r\n"
   ]
  },
  {
   "cell_type": "code",
   "execution_count": 36,
   "metadata": {},
   "outputs": [
    {
     "name": "stderr",
     "output_type": "stream",
     "text": [
      "100%|██████████| 6285/6285 [00:00<00:00, 12485.63it/s]\n",
      "100%|██████████| 6285/6285 [00:00<00:00, 12722.92it/s]\n",
      "100%|██████████| 6285/6285 [00:00<00:00, 12747.49it/s]\n",
      "100%|██████████| 6285/6285 [00:00<00:00, 12862.52it/s]\n",
      "100%|██████████| 6285/6285 [00:00<00:00, 12956.87it/s]\n",
      "100%|██████████| 6285/6285 [00:00<00:00, 12958.61it/s]\n"
     ]
    }
   ],
   "source": [
    "import re\r\n",
    "from tqdm.auto import tqdm\r\n",
    "\r\n",
    "regex1=re.compile(r'ARTHUR ANDERSEN')\r\n",
    "regex2=re.compile(r'ARTHUR J. GALLAGHER &')\r\n",
    "regex3=re.compile(r'^MERCER')\r\n",
    "regex4=re.compile(r'^MERIDIAN')\r\n",
    "regex5=re.compile(r'^(SEMLER)|^(BROSSY)')\r\n",
    "regex6=re.compile(r'^SHEA')\r\n",
    "regex7=re.compile(r'^PAY\\s+GOVERNANCE')\r\n",
    "regex8=re.compile(r'^GOVERNANCE\\sLLC')\r\n",
    "regex9=re.compile(r'^GALLAGHER\\sBENEFIT(s)?\\sSERVICE')\r\n",
    "for n in range (1,7):    \r\n",
    "    for i, row in tqdm(df.iterrows(), total=len(df)):\r\n",
    "        if regex1.search(str(row[f'CC_{n}'])):\r\n",
    "            row[f'CC_{n}']='ARTHUR ANDERSEN'\r\n",
    "        if regex2.search(str(row[f'CC_{n}'])):\r\n",
    "            row[f'CC_{n}']='ARTHUR J. GALLAGHER & CO.'\r\n",
    "        if regex3.search(str(row[f'CC_{n}'])):\r\n",
    "            row[f'CC_{n}']='MERCER'\r\n",
    "        if regex4.search(str(row[f'CC_{n}'])):\r\n",
    "            row[f'CC_{n}']='MERIDIAN'\r\n",
    "        if regex5.search(str(row[f'CC_{n}'])):\r\n",
    "            row[f'CC_{n}']='SEMLER BROSSY'\r\n",
    "        if regex6.search(str(row[f'CC_{n}'])):\r\n",
    "            row[f'CC_{n}']='SHEA & ASSOCIATES'   \r\n",
    "        if regex7.search(str(row[f'CC_{n}'])):\r\n",
    "            row[f'CC_{n}']='PAY GOVERNANCE'\r\n",
    "        if regex8.search(str(row[f'CC_{n}'])):\r\n",
    "            row[f'CC_{n}']='PAY GOVERNANCE'   \r\n",
    "        if regex9.search(str(row[f'CC_{n}'])):\r\n",
    "            row[f'CC_{n}']='ARTHUR J. GALLAGHER & CO.' \r\n",
    "        if row[f'CC_{n}']=='THE SCHONBRAUN MCCANN GROUP':\r\n",
    "            row[f'CC_{n}']='SMG'\r\n",
    "        if row[f'CC_{n}']=='PAY':\r\n",
    "            row[f'CC_{n}']='PAY GOVERNANCE'\r\n",
    "            #row[f'CC_{n}']='FTI' # merged names will be coded differently"
   ]
  },
  {
   "cell_type": "markdown",
   "metadata": {},
   "source": [
    "# AON"
   ]
  },
  {
   "cell_type": "code",
   "execution_count": null,
   "metadata": {},
   "outputs": [],
   "source": [
    " 'AON',\n",
    " 'AON AND',\n",
    " 'AON CONSULTING',\n",
    " 'AON CONSULTING/',\n",
    " 'AON CONSULTING/RADFORD',\n",
    " 'AON GROUP',\n",
    " 'AON HEWITT',\n",
    " 'AON HEWITT ASSOCIATES TOTAL COMPENSATION',\n",
    " 'AON HEWITT COMPANY',\n",
    " 'AON HEWITT CONSULTING',\n",
    " 'AON RADFORD',\n",
    " 'AON/RADFORD',\n",
    " 'AON/RADFORD CONSULTING'\n",
    "\n",
    "  'HEWITT',\n",
    " 'HEWITT     ASSOCIATES',\n",
    " 'HEWITT     ASSOCIATES LLC',\n",
    " 'HEWITT     ASSOCIATES, LLC',\n",
    " 'HEWITT     ASSOCIATES, LLP',\n",
    " 'HEWITT & ASSOCIATES',\n",
    " 'HEWITT ASSOCIATES',\n",
    " 'HEWITT ASSOCIATES LLC',\n",
    " 'HEWITT ASSOCIATES LLP',\n",
    " 'HEWITT ASSOCIATES,',\n",
    " 'HEWITT ASSOCIATES, INC.',\n",
    " 'HEWITT ASSOCIATES, LLC',\n",
    " 'HEWITT ASSOCIATES, LLP',\n",
    " 'HEWITT TOTAL COMPENSATION',"
   ]
  },
  {
   "cell_type": "code",
   "execution_count": 37,
   "metadata": {},
   "outputs": [
    {
     "name": "stderr",
     "output_type": "stream",
     "text": [
      "100%|██████████| 6285/6285 [00:00<00:00, 17294.58it/s]\n",
      "100%|██████████| 6285/6285 [00:00<00:00, 17223.09it/s]\n",
      "100%|██████████| 6285/6285 [00:00<00:00, 17355.09it/s]\n",
      "100%|██████████| 6285/6285 [00:00<00:00, 17314.21it/s]\n",
      "100%|██████████| 6285/6285 [00:00<00:00, 17554.62it/s]\n",
      "100%|██████████| 6285/6285 [00:00<00:00, 17608.47it/s]\n"
     ]
    }
   ],
   "source": [
    "from tqdm.auto import tqdm\r\n",
    "\r\n",
    "regex1=re.compile(r'^AON(?!\\s?HEWITT)')\r\n",
    "regex2=re.compile(r'AON HEWITT')\r\n",
    "regex3=re.compile(r'^HEWITT')\r\n",
    "for n in range (1,7):    \r\n",
    "    for i, row in tqdm(df.iterrows(), total=len(df)):\r\n",
    "        if regex1.search(str(row[f'CC_{n}'])):\r\n",
    "            row[f'CC_{n}']='AON'\r\n",
    "        if regex2.search(str(row[f'CC_{n}'])):\r\n",
    "            row[f'CC_{n}']='AON HEWITT'\r\n",
    "            #row[f'CC_{n}']='AON'\r\n",
    "        if regex3.search(str(row[f'CC_{n}'])):\r\n",
    "            row[f'CC_{n}']='HEWITT ASSOCIATES'\r\n",
    "            #row[f'CC_{n}']='AON'"
   ]
  },
  {
   "cell_type": "markdown",
   "metadata": {},
   "source": [
    "# C"
   ]
  },
  {
   "cell_type": "code",
   "execution_count": null,
   "metadata": {},
   "outputs": [],
   "source": [
    "'CCA'\r\n",
    "'CCA STRATEGIES'\r\n",
    "\r\n",
    " 'COGENT',\r\n",
    " 'COGENT COMPENSATION PARTNERS',\r\n",
    " 'COGENT PARTNERS'"
   ]
  },
  {
   "cell_type": "code",
   "execution_count": 38,
   "metadata": {},
   "outputs": [
    {
     "name": "stderr",
     "output_type": "stream",
     "text": [
      "100%|██████████| 6285/6285 [00:00<00:00, 18215.87it/s]\n",
      "100%|██████████| 6285/6285 [00:00<00:00, 18485.29it/s]\n",
      "100%|██████████| 6285/6285 [00:00<00:00, 18270.36it/s]\n",
      "100%|██████████| 6285/6285 [00:00<00:00, 18337.72it/s]\n",
      "100%|██████████| 6285/6285 [00:00<00:00, 18457.61it/s]\n",
      "100%|██████████| 6285/6285 [00:00<00:00, 18348.26it/s]\n"
     ]
    }
   ],
   "source": [
    "from tqdm.auto import tqdm\r\n",
    "\r\n",
    "regex1=re.compile(r'^CCA')\r\n",
    "regex2=re.compile(r'^COGENT')\r\n",
    "#regex3=re.compile(r'^HEWITT')\r\n",
    "for n in range (1,7):    \r\n",
    "    for i, row in tqdm(df.iterrows(), total=len(df)):\r\n",
    "        if regex1.search(str(row[f'CC_{n}'])):\r\n",
    "            row[f'CC_{n}']='CCA'\r\n",
    "        if regex2.search(str(row[f'CC_{n}'])):\r\n",
    "            row[f'CC_{n}']='COGENT COMPENSATION PARTNERS'\r\n",
    "        #if regex3.search(str(row[f'CC_{n}'])):\r\n",
    "            #row[f'CC_{n}']='HEWITT ASSOCIATES'\r\n",
    "            #row[f'CC_{n}']='AON'"
   ]
  },
  {
   "cell_type": "markdown",
   "metadata": {},
   "source": [
    "# Cook variation"
   ]
  },
  {
   "cell_type": "code",
   "execution_count": null,
   "metadata": {},
   "outputs": [],
   "source": [
    " 'FREDERIC',\r\n",
    " 'FREDERIC COOK',\r\n",
    " 'FREDERIC COOK &',\r\n",
    " 'FREDERIC POSES',\r\n",
    " 'FREDERIC W.',\r\n",
    " 'FREDERIC W. COOK',\r\n",
    " 'FREDERIC W. COOK &',\r\n",
    " 'FREDERIC W. COOK AND',\r\n",
    " 'FREDERIC W. COOK AND CO.',\r\n",
    " 'FREDERIC W. COOK, & CO.',\r\n",
    " 'FREDERIC W. CORRIGAN',\r\n",
    " 'FREDERICK W.',\r\n",
    " 'FREDERICK W. COOK',\r\n",
    " 'FREDERICKCOOK',\r\n",
    " 'FREDERICKCOOKMPANY',\r\n",
    " 'FREDRIC W. CORRIGAN',\r\n",
    " 'FREDRICCOOK'\r\n",
    "\r\n",
    " 'COOK',\r\n",
    " 'COOK &',\r\n",
    " 'COOK FIRM',\r\n",
    " 'COOKMPANY',\r\n",
    " 'COOKMPANY, INC.'\r\n",
    "\r\n",
    " 'F. W.'\r\n",
    "  'FCOOK'\r\n",
    "\r\n",
    "  'MR. PAULIN'\r\n",
    "  "
   ]
  },
  {
   "cell_type": "code",
   "execution_count": 39,
   "metadata": {},
   "outputs": [
    {
     "name": "stderr",
     "output_type": "stream",
     "text": [
      "100%|██████████| 6285/6285 [00:00<00:00, 10153.51it/s]\n",
      "100%|██████████| 6285/6285 [00:00<00:00, 10245.73it/s]\n",
      "100%|██████████| 6285/6285 [00:00<00:00, 10240.90it/s]\n",
      "100%|██████████| 6285/6285 [00:00<00:00, 10286.44it/s]\n",
      "100%|██████████| 6285/6285 [00:00<00:00, 10430.21it/s]\n",
      "100%|██████████| 6285/6285 [00:00<00:00, 9897.65it/s]\n"
     ]
    }
   ],
   "source": [
    "from tqdm.auto import tqdm\n",
    "for n in range (1,7):\n",
    "    regex1=re.compile(r'& CO\\.,?(\\s)+INC\\.')\n",
    "    regex2=re.compile(r'FREDERIC(K)?\\s?(W)?\\.?\\s?(COOK)?')\n",
    "    regex3=re.compile(r'^COOK')\n",
    "    for i, row in tqdm(df.iterrows(), total=len(df)):\n",
    "        if row[f'CC_{n}']=='FREDERIC W. CORRIGAN' or row[f'CC_{n}']=='FREDRIC W. CORRIGAN' or row[f'CC_{n}']=='FREDERIC W. CORRIGAN':\n",
    "            continue\n",
    "        if row[f'CC_{n}']=='FREDRICCOOK' or row[f'CC_{n}']=='W. COOK' or row[f'CC_{n}']=='COOK &' or row[f'CC_{n}']=='F. W.' or row[f'CC_{n}']=='FCOOK' or row[f'CC_{n}']=='MR. PAULIN' or row[f'CC_{n}']=='THE COOK FIRM':\n",
    "            row[f'CC_{n}']='COOK'\n",
    "        if regex1.search(str(row[f'CC_{n}'])):\n",
    "            row[f'CC_{n}']='COOK'\n",
    "        if regex2.search(str(row[f'CC_{n}'])):\n",
    "            row[f'CC_{n}']='COOK'\n",
    "        if regex3.search(str(row[f'CC_{n}'])):\n",
    "            row[f'CC_{n}']='COOK'\n",
    "        if str(row[f'CC_{n}'])==\"GEORGE B. PAULIN\":\n",
    "            row[f'CC_{n}']='COOK'\n",
    "        if str(row[f'CC_{n}'])==\"GEORGE PAULIN\": \n",
    "            row[f'CC_{n}']='COOK'\n",
    "        if str(row[f'CC_{n}'])==\"FWC\":\n",
    "            row[f'CC_{n}']='COOK'\n",
    "        if str(row[f'CC_{n}'])==\"FREDERIC W. COOK\":\n",
    "            row[f'CC_{n}']='COOK'\n",
    "        if str(row[f'CC_{n}'])==\"FREDERIC W. COOK & CO.\":\n",
    "            row[f'CC_{n}']='COOK'\n",
    "        if str(row[f'CC_{n}'])==\"COOK & CO.\":\n",
    "            row[f'CC_{n}']='COOK'\n",
    "        if str(row[f'CC_{n}'])==\"F.W.\":\n",
    "            row[f'CC_{n}']='COOK'\n",
    "           "
   ]
  },
  {
   "cell_type": "markdown",
   "metadata": {},
   "source": [
    "# Pearl variation"
   ]
  },
  {
   "cell_type": "code",
   "execution_count": null,
   "metadata": {},
   "outputs": [],
   "source": [
    " 'PEARL',\r\n",
    " 'PEARL     ',\r\n",
    " 'PEARL MEYER',\r\n",
    " 'PEARL MEYER &     PARTNERS',\r\n",
    " 'PEARL MEYER AND PARTNERS'\r\n",
    "  'PM&P',\r\n",
    " 'PM&P PARTNERS LLC',\r\n",
    " 'PMP'\r\n",
    " 'PEARL MEYER & PARTNERS'\r\n",
    " "
   ]
  },
  {
   "cell_type": "code",
   "execution_count": 40,
   "metadata": {},
   "outputs": [
    {
     "name": "stderr",
     "output_type": "stream",
     "text": [
      "100%|██████████| 6285/6285 [00:00<00:00, 16411.82it/s]\n",
      "100%|██████████| 6285/6285 [00:00<00:00, 16575.24it/s]\n",
      "100%|██████████| 6285/6285 [00:00<00:00, 16628.21it/s]\n",
      "100%|██████████| 6285/6285 [00:00<00:00, 16804.76it/s]\n",
      "100%|██████████| 6285/6285 [00:00<00:00, 16407.73it/s]\n",
      "100%|██████████| 6285/6285 [00:00<00:00, 16846.55it/s]\n"
     ]
    }
   ],
   "source": [
    "import re\r\n",
    "regex1=re.compile(r'MEYER & PARTNERS')\r\n",
    "regex2=re.compile(r'^PEARL\\s+')\r\n",
    "regex3=re.compile(r'^PM&?P')\r\n",
    "for n in range(1,7):\r\n",
    "    from tqdm.auto import tqdm\r\n",
    "\r\n",
    "    for i, row in tqdm(df.iterrows(), total=len(df)):\r\n",
    "        if regex1.search(str(row[f'CC_{n}'])):\r\n",
    "            row[f'CC_{n}']='PEARL'\r\n",
    "        if regex2.search(str(row[f'CC_{n}'])):\r\n",
    "            row[f'CC_{n}']='PEARL'\r\n",
    "        if regex3.search(str(row[f'CC_{n}'])):\r\n",
    "            row[f'CC_{n}']='PEARL'\r\n",
    "        #if str(row[f'CC_{n}'])=='GIBSON DUNN':\r\n",
    "            #row[f'CC_{n}']='PEARL'"
   ]
  },
  {
   "cell_type": "markdown",
   "metadata": {},
   "source": [
    "# Towers Watson"
   ]
  },
  {
   "cell_type": "code",
   "execution_count": null,
   "metadata": {},
   "outputs": [],
   "source": [
    " 'TOWER PERRIN',\r\n",
    " 'TOWER WATSON',\r\n",
    " 'TOWERS',\r\n",
    " 'TOWERS     ',\r\n",
    " 'TOWERS     PERRIN',\r\n",
    " 'TOWERS PERIN',\r\n",
    " 'TOWERS PERRIN',\r\n",
    " 'TOWERS PERRIN HR SERVICES',\r\n",
    " 'TOWERS PERRIN LLP',\r\n",
    " 'TOWERS WATSON',\r\n",
    " 'TOWERS WATSON &',\r\n",
    " 'TOWERS WATSON & CO.',\r\n",
    " 'TOWERS WATSON CDB',\r\n",
    " 'TOWERS, PERRIN',\r\n",
    " 'TOWERS, PERRIN, FORSTER & CROSBY',\r\n",
    " 'TOWERS-PERRIN'\r\n",
    " 'WATSON',\r\n",
    " 'WATSON & WYATT',\r\n",
    " 'WATSON & WYATT WORLDWIDE',\r\n",
    " 'WATSON WYATT',\r\n",
    " 'WATSON WYATT & COMPANY',\r\n",
    " 'WATSON WYATT WORLDWIDE',\r\n",
    " 'WATSON WYATT WORLDWIDE, INC.',\r\n",
    " 'WEIDEMEYER',\r\n",
    " 'WILLIS',\r\n",
    " 'WILLIS GROUP',\r\n",
    " 'WILLIS TOWERS WATSON',\r\n",
    " 'WOK ACQUISITION CORP.',\r\n",
    " 'WYATT',\r\n",
    " 'WYATT & COMPANY',\r\n",
    " 'WYATT WORLDWIDE'\r\n",
    "\r\n",
    "  'TOWERS WATSON',\r\n",
    " 'TOWERS WATSON &',\r\n",
    " 'TOWERS WATSON & CO.',\r\n",
    " 'TOWERS WATSON CDB'\r\n",
    "\r\n",
    "  'JOHN ENGLAND'\r\n",
    "   'PERRIN',\r\n",
    "\r\n",
    "    'TOWERS     WATSON AND',\r\n",
    " 'TOWERS AND'"
   ]
  },
  {
   "cell_type": "code",
   "execution_count": 41,
   "metadata": {},
   "outputs": [
    {
     "name": "stderr",
     "output_type": "stream",
     "text": [
      "100%|██████████| 6285/6285 [00:00<00:00, 12645.11it/s]\n",
      "100%|██████████| 6285/6285 [00:00<00:00, 12862.63it/s]\n",
      "100%|██████████| 6285/6285 [00:00<00:00, 12909.61it/s]\n",
      "100%|██████████| 6285/6285 [00:00<00:00, 13022.48it/s]\n",
      "100%|██████████| 6285/6285 [00:00<00:00, 12879.13it/s]\n",
      "100%|██████████| 6285/6285 [00:00<00:00, 13038.47it/s]\n"
     ]
    }
   ],
   "source": [
    "import re\r\n",
    "regex1=re.compile(r'TOWER(S)?[,-]?\\s?PERR?IN')\r\n",
    "regex2=re.compile(r'^WATSON ')\r\n",
    "regex3=re.compile(r'^WILLIS$')\r\n",
    "regex4=re.compile(r'^WYATT')\r\n",
    "regex5=re.compile(r'^TOWERS\\sWATSON')\r\n",
    "regex6=re.compile(r'^PERR?IN')\r\n",
    "for n in range(1,7):\r\n",
    "    from tqdm.auto import tqdm\r\n",
    "\r\n",
    "    for i, row in tqdm(df.iterrows(), total=len(df)):\r\n",
    "        if str(row[f'CC_{n}'])=='TOWERS     ':\r\n",
    "            row[f'CC_{n}']='TOWERS'\r\n",
    "\r\n",
    "        if str(row[f'CC_{n}'])=='TOWERS     PERRIN':\r\n",
    "            row[f'CC_{n}']='TOWERS PERRIN'\r\n",
    "\r\n",
    "        if str(row[f'CC_{n}'])=='JOHN ENGLAND':\r\n",
    "            row[f'CC_{n}']='TOWERS PERRIN'\r\n",
    "\r\n",
    "        if str(row[f'CC_{n}'])=='TOWER WATSON':\r\n",
    "            row[f'CC_{n}']='TOWERS WATSON'\r\n",
    "\r\n",
    "        if str(row[f'CC_{n}'])=='TOWERS AND':\r\n",
    "            row[f'CC_{n}']='TOWERS'\r\n",
    "\r\n",
    "        if regex1.search(str(row[f'CC_{n}'])):\r\n",
    "            row[f'CC_{n}']='TOWERS PERRIN'\r\n",
    "   \r\n",
    "        if regex2.search(str(row[f'CC_{n}'])):\r\n",
    "            row[f'CC_{n}']='WATSON WYATT'\r\n",
    "\r\n",
    "        if regex3.search(str(row[f'CC_{n}'])):\r\n",
    "            row[f'CC_{n}']='WILLIS'\r\n",
    "\r\n",
    "        if regex4.search(str(row[f'CC_{n}'])):\r\n",
    "            row[f'CC_{n}']='WATSON WYATT'\r\n",
    "\r\n",
    "        if regex5.search(str(row[f'CC_{n}'])):\r\n",
    "            row[f'CC_{n}']='TOWERS WATSON'\r\n",
    "\r\n",
    "        if regex6.search(str(row[f'CC_{n}'])):\r\n",
    "            row[f'CC_{n}']='TOWERS PERRIN'"
   ]
  },
  {
   "cell_type": "markdown",
   "metadata": {},
   "source": [
    "# COMPENSATION\n"
   ]
  },
  {
   "cell_type": "code",
   "execution_count": null,
   "metadata": {},
   "outputs": [],
   "source": [
    "'COMPENSATION ADVISORY PARTNER',\n",
    " 'COMPENSATION ADVISORY PARTNERS',\n",
    " 'COMPENSATION ADVISORY PARTNERS LLC',\n",
    " 'COMPENSATION ADVISORY PARTNERS LLP',\n",
    " 'COMPENSATION ADVISORY PARTNERS, LLC',\n",
    " 'COMPENSATION STRATEGIES',\n",
    " 'COMPENSATION STRATEGIES INC.',\n",
    " 'COMPENSIA',\n",
    " 'COMPENSIA,',\n",
    " 'COMPENSIA, INC.',"
   ]
  },
  {
   "cell_type": "code",
   "execution_count": 42,
   "metadata": {},
   "outputs": [
    {
     "name": "stderr",
     "output_type": "stream",
     "text": [
      "100%|██████████| 6285/6285 [00:00<00:00, 17505.47it/s]\n",
      "100%|██████████| 6285/6285 [00:00<00:00, 17676.84it/s]\n",
      "100%|██████████| 6285/6285 [00:00<00:00, 17594.38it/s]\n",
      "100%|██████████| 6285/6285 [00:00<00:00, 17745.90it/s]\n",
      "100%|██████████| 6285/6285 [00:00<00:00, 17802.82it/s]\n",
      "100%|██████████| 6285/6285 [00:00<00:00, 17704.11it/s]\n"
     ]
    }
   ],
   "source": [
    "import re\r\n",
    "regex1=re.compile(r'^COMPENSATION ADVISORY\\s?(PARTNER)?')\r\n",
    "regex2=re.compile(r'^COMPENSATION\\s?STRATEGIES')\r\n",
    "regex3=re.compile(r'^COMPENSIA')\r\n",
    "\r\n",
    "for n in range(1,7):\r\n",
    "    from tqdm.auto import tqdm\r\n",
    "\r\n",
    "    for i, row in tqdm(df.iterrows(), total=len(df)):\r\n",
    "        if regex1.search(str(row[f'CC_{n}'])):\r\n",
    "            row[f'CC_{n}']='CAP'\r\n",
    "        if regex2.search(str(row[f'CC_{n}'])):\r\n",
    "            row[f'CC_{n}']='COMPENSATION STRATEGIES'\r\n",
    "        if regex3.search(str(row[f'CC_{n}'])):\r\n",
    "            row[f'CC_{n}']='COMPENSIA'"
   ]
  },
  {
   "cell_type": "markdown",
   "metadata": {},
   "source": [
    "# Deloitte"
   ]
  },
  {
   "cell_type": "code",
   "execution_count": null,
   "metadata": {},
   "outputs": [],
   "source": [
    " 'DELOITTE',\r\n",
    " 'DELOITTE &',\r\n",
    " 'DELOITTE & TOUCHE LLP',\r\n",
    " 'DELOITTE CONSULTING',\r\n",
    " 'DELOITTE CONSULTING LLP',\r\n",
    " 'DELOITTE CONSULTING, LLP',\r\n",
    " 'DELOITTE LLP',\r\n",
    " 'DELOITTE TAX, LLP'\r\n",
    "\r\n",
    " 'D&T'"
   ]
  },
  {
   "cell_type": "code",
   "execution_count": 43,
   "metadata": {},
   "outputs": [
    {
     "name": "stderr",
     "output_type": "stream",
     "text": [
      "100%|██████████| 6285/6285 [00:00<00:00, 18594.68it/s]\n",
      "100%|██████████| 6285/6285 [00:00<00:00, 18592.31it/s]\n",
      "100%|██████████| 6285/6285 [00:00<00:00, 18483.19it/s]\n",
      "100%|██████████| 6285/6285 [00:00<00:00, 18322.00it/s]\n",
      "100%|██████████| 6285/6285 [00:00<00:00, 18649.79it/s]\n",
      "100%|██████████| 6285/6285 [00:00<00:00, 18296.15it/s]\n"
     ]
    }
   ],
   "source": [
    "import re\r\n",
    "regex1=re.compile(r'^DELOITTE')\r\n",
    "regex2=re.compile(r'D&T')\r\n",
    "\r\n",
    "for n in range(1,7):\r\n",
    "    from tqdm.auto import tqdm\r\n",
    "\r\n",
    "    for i, row in tqdm(df.iterrows(), total=len(df)):\r\n",
    "        if regex1.search(str(row[f'CC_{n}'])):\r\n",
    "            row[f'CC_{n}']='DELOITTE'\r\n",
    "        if regex2.search(str(row[f'CC_{n}'])):\r\n",
    "            row[f'CC_{n}']='DELOITTE'"
   ]
  },
  {
   "cell_type": "markdown",
   "metadata": {},
   "source": [
    "# E&Y, Exequity"
   ]
  },
  {
   "cell_type": "code",
   "execution_count": null,
   "metadata": {},
   "outputs": [],
   "source": [
    "'E&Y',\r\n",
    " 'EOAIP',\r\n",
    " 'EQUILAR INC.',\r\n",
    " 'ERNST &     YOUNG LLP',\r\n",
    " 'ERNST & YOUNG',\r\n",
    " 'ERNST & YOUNG LLP',\r\n",
    " 'ERNST AND YOUNG',\r\n",
    " 'EXEQUITY',\r\n",
    " 'EXEQUITY L.L.P.',\r\n",
    " 'EXEQUITY LLP',\r\n",
    "\r\n",
    " 'EQUILAR',\r\n",
    " 'EQUILAR COMPENSATION',\r\n",
    " 'EQUILAR SERVICE',"
   ]
  },
  {
   "cell_type": "code",
   "execution_count": 44,
   "metadata": {},
   "outputs": [
    {
     "name": "stderr",
     "output_type": "stream",
     "text": [
      "100%|██████████| 6285/6285 [00:00<00:00, 16653.91it/s]\n",
      "100%|██████████| 6285/6285 [00:00<00:00, 16911.33it/s]\n",
      "100%|██████████| 6285/6285 [00:00<00:00, 16833.93it/s]\n",
      "100%|██████████| 6285/6285 [00:00<00:00, 16709.38it/s]\n",
      "100%|██████████| 6285/6285 [00:00<00:00, 16895.65it/s]\n",
      "100%|██████████| 6285/6285 [00:00<00:00, 16599.97it/s]\n"
     ]
    }
   ],
   "source": [
    "import re\r\n",
    "regex1=re.compile(r'^ERNST\\s?')\r\n",
    "regex2=re.compile(r'EXEQUITY')\r\n",
    "regex3=re.compile(r'^EQUILAR')\r\n",
    "for n in range(1,7):\r\n",
    "    from tqdm.auto import tqdm\r\n",
    "\r\n",
    "    for i, row in tqdm(df.iterrows(), total=len(df)):\r\n",
    "        if regex1.search(str(row[f'CC_{n}'])):\r\n",
    "            row[f'CC_{n}']='E&Y'\r\n",
    "        if regex2.search(str(row[f'CC_{n}'])):\r\n",
    "            row[f'CC_{n}']='EXEQUITY'\r\n",
    "        if regex3.search(str(row[f'CC_{n}'])):\r\n",
    "            row[f'CC_{n}']='EQUILAR'\r\n",
    "        if str(row[f'CC_{n}'])==\"EY\":\r\n",
    "            row[f'CC_{n}']='E&Y'"
   ]
  },
  {
   "cell_type": "markdown",
   "metadata": {},
   "source": [
    "# F"
   ]
  },
  {
   "cell_type": "code",
   "execution_count": null,
   "metadata": {},
   "outputs": [],
   "source": [
    ",\r\n",
    " 'FACEBOOK',\r\n",
    " 'FACEBOOK AND LINKEDIN',\r\n",
    " 'FARIENT',\r\n",
    " 'FARIENT ADVISORS',\r\n",
    " 'FARIENT ADVISORS LLC',\r\n",
    ",\r\n",
    " 'FFO',\r\n",
    " 'FLANIGAN',\r\n",
    " 'FORBES',\r\n",
    " 'FPL',\r\n",
    " 'FPL ASSOCIATES',\r\n",
    " 'FPL ASSOCIATES, L.P.',\r\n",
    " 'FPL GROUP',\r\n",
    " 'FREDERIC W. CORRIGAN',\r\n",
    " 'FREDRIC W. CORRIGAN',\r\n",
    " 'FTI',\r\n",
    " 'FTI CONSULTING',\r\n",
    " 'FTI CONSULTING, INC.',\r\n",
    " 'FTI SCHONBRAUN MCCANN GROUP',\r\n",
    "\r\n",
    "  'FIT',\r\n",
    " 'FIT REMUNERATION CONSULTANTS LLP'"
   ]
  },
  {
   "cell_type": "code",
   "execution_count": 45,
   "metadata": {},
   "outputs": [
    {
     "name": "stderr",
     "output_type": "stream",
     "text": [
      "100%|██████████| 6285/6285 [00:00<00:00, 15591.94it/s]\n",
      "100%|██████████| 6285/6285 [00:00<00:00, 16069.01it/s]\n",
      "100%|██████████| 6285/6285 [00:00<00:00, 15905.33it/s]\n",
      "100%|██████████| 6285/6285 [00:00<00:00, 16033.90it/s]\n",
      "100%|██████████| 6285/6285 [00:00<00:00, 16031.95it/s]\n",
      "100%|██████████| 6285/6285 [00:00<00:00, 16028.25it/s]\n"
     ]
    }
   ],
   "source": [
    "import re\r\n",
    "regex1=re.compile(r'^FARIENT')\r\n",
    "regex2=re.compile(r'^FPL')\r\n",
    "regex3=re.compile(r'^FTI')\r\n",
    "regex4=re.compile(r'^FIT')\r\n",
    "for n in range(1,7):\r\n",
    "    from tqdm.auto import tqdm\r\n",
    "\r\n",
    "    for i, row in tqdm(df.iterrows(), total=len(df)):\r\n",
    "        if str(row[f'CC_{n}'])==\"FLP ASSOCIATES\":\r\n",
    "            row[f'CC_{n}']='FPL'\r\n",
    "        if regex1.search(str(row[f'CC_{n}'])):\r\n",
    "            row[f'CC_{n}']='FARIENT'\r\n",
    "        if regex2.search(str(row[f'CC_{n}'])):\r\n",
    "            row[f'CC_{n}']='FPL'\r\n",
    "        if regex3.search(str(row[f'CC_{n}'])):\r\n",
    "            row[f'CC_{n}']='FTI'\r\n",
    "        if regex4.search(str(row[f'CC_{n}'])):\r\n",
    "            row[f'CC_{n}']='FIT REMUNERATION CONSULTANTS'"
   ]
  },
  {
   "cell_type": "code",
   "execution_count": null,
   "metadata": {},
   "outputs": [],
   "source": [
    "# G"
   ]
  },
  {
   "cell_type": "code",
   "execution_count": null,
   "metadata": {},
   "outputs": [],
   "source": [
    "'GRESSLE & MCGINLEY LLC'\r\n",
    "'GIBSON, DUNN & CRUTCHER LLP'"
   ]
  },
  {
   "cell_type": "code",
   "execution_count": 46,
   "metadata": {},
   "outputs": [
    {
     "name": "stderr",
     "output_type": "stream",
     "text": [
      "100%|██████████| 6285/6285 [00:00<00:00, 19169.50it/s]\n",
      "100%|██████████| 6285/6285 [00:00<00:00, 19832.78it/s]\n",
      "100%|██████████| 6285/6285 [00:00<00:00, 19824.36it/s]\n",
      "100%|██████████| 6285/6285 [00:00<00:00, 19950.46it/s]\n",
      "100%|██████████| 6285/6285 [00:00<00:00, 20077.93it/s]\n",
      "100%|██████████| 6285/6285 [00:00<00:00, 20128.85it/s]\n"
     ]
    }
   ],
   "source": [
    "regex1=re.compile(r'^GRESSLE\\s(&|AND)\\sMCGINLEY')\r\n",
    "regex2=re.compile(r'^GIBSON\\sDUNN')\r\n",
    "#regex3=re.compile(r'STEVEN HALL\\s&\\sPARTNERS')\r\n",
    "#regex4=re.compile(r'^STEVEN HALL\\s')\r\n",
    "#regex3=re.compile(r'^FTI')\r\n",
    "for n in range(1,7):\r\n",
    "    from tqdm.auto import tqdm\r\n",
    "\r\n",
    "    for i, row in tqdm(df.iterrows(), total=len(df)):\r\n",
    "        if regex1.search(str(row[f'CC_{n}'])):\r\n",
    "            row[f'CC_{n}']='GRESSLE & MCGINLEY'\r\n",
    "        if regex2.search(str(row[f'CC_{n}'])):\r\n",
    "            row[f'CC_{n}']=None\r\n",
    "        #if regex3.search(str(row[f'CC_{n}'])):\r\n",
    "            #row[f'CC_{n}']='STEVEN HALL'\r\n",
    "        #if regex4.search(str(row[f'CC_{n}'])):\r\n",
    "            #row[f'CC_{n}']='STEVEN HALL'"
   ]
  },
  {
   "cell_type": "markdown",
   "metadata": {},
   "source": [
    "# H"
   ]
  },
  {
   "cell_type": "code",
   "execution_count": null,
   "metadata": {},
   "outputs": [],
   "source": [
    " 'HALL',\r\n",
    " 'HALL PARTNERS',\r\n",
    "  'STEVEN HALL',\r\n",
    " 'STEVEN HALL & PARTNERS',\r\n",
    " 'STEVEN HALL & PARTNERS, LLC',\r\n",
    " 'STEVEN HALL & PARTNERS, LLP'\r\n",
    " \r\n",
    " 'HAY',\r\n",
    " 'HAY     GROUP',\r\n",
    " 'HAY GROUP',\r\n",
    " 'HAY GROUP,',\r\n",
    " 'HAY GROUP, INC.',\r\n",
    " 'HAY TOTAL',\r\n",
    " 'HAYGROUP'\r\n",
    "\r\n",
    " 'STEVEN HALL AND PARTNERS',\r\n",
    " 'STEVEN HALL OF',"
   ]
  },
  {
   "cell_type": "code",
   "execution_count": 47,
   "metadata": {},
   "outputs": [
    {
     "name": "stderr",
     "output_type": "stream",
     "text": [
      "100%|██████████| 6285/6285 [00:00<00:00, 16439.52it/s]\n",
      "100%|██████████| 6285/6285 [00:00<00:00, 16560.42it/s]\n",
      "100%|██████████| 6285/6285 [00:00<00:00, 16197.12it/s]\n",
      "100%|██████████| 6285/6285 [00:00<00:00, 16671.56it/s]\n",
      "100%|██████████| 6285/6285 [00:00<00:00, 16579.26it/s]\n",
      "100%|██████████| 6285/6285 [00:00<00:00, 16623.92it/s]\n"
     ]
    }
   ],
   "source": [
    "import re\r\n",
    "regex1=re.compile(r'^HALL\\s?&?\\s?PARTNERS')\r\n",
    "regex2=re.compile(r'(THE)?\\s?HAY\\s?(GROUP)?')\r\n",
    "regex3=re.compile(r'STEVEN HALL\\s&\\sPARTNERS')\r\n",
    "regex4=re.compile(r'^STEVEN HALL\\s')\r\n",
    "#regex3=re.compile(r'^FTI')\r\n",
    "for n in range(1,7):\r\n",
    "    from tqdm.auto import tqdm\r\n",
    "\r\n",
    "    for i, row in tqdm(df.iterrows(), total=len(df)):\r\n",
    "        if regex1.search(str(row[f'CC_{n}'])):\r\n",
    "            row[f'CC_{n}']='STEVEN HALL'\r\n",
    "        if regex2.search(str(row[f'CC_{n}'])):\r\n",
    "            row[f'CC_{n}']='HAY GROUP'\r\n",
    "        if regex3.search(str(row[f'CC_{n}'])):\r\n",
    "            row[f'CC_{n}']='STEVEN HALL'\r\n",
    "        if regex4.search(str(row[f'CC_{n}'])):\r\n",
    "            row[f'CC_{n}']='STEVEN HALL'"
   ]
  },
  {
   "cell_type": "markdown",
   "metadata": {},
   "source": [
    "# I"
   ]
  },
  {
   "cell_type": "code",
   "execution_count": null,
   "metadata": {},
   "outputs": [],
   "source": [
    " 'INDEPENDENT ADVISER TO COMPENSATION',\r\n",
    " 'INDEPENDENT ADVISOR',\r\n",
    " 'INDEPENDENT BUSINESS ADVISER AND CONSULTANT',\r\n",
    " 'INDEPENDENT COMMITTEE CONSULTANT',\r\n",
    " 'INDEPENDENT COMPENSATION COMMITTEE',\r\n",
    " 'INDEPENDENT COMPENSATION COMMITTEE ADVISER',\r\n",
    " 'INDEPENDENT COMPENSATION COMMITTEE CONSULTANT',\r\n",
    " 'INDEPENDENT CONSULTANT AND PEER',\r\n",
    " 'INDEPENDENT CONSULTANT BENCHMARKING',\r\n",
    " 'INDEPENDENT MANAGEMENT CONSULTANT',\r\n",
    "'INDEPENDENT BUSINESS ADVISER AND CONSULTANT',\r\n",
    "\r\n",
    "'INDEPENDENT COMPENSATION COMMITTEE',\r\n",
    "'INDEPENDENT COMPENSATION COMMITTEE CONSULTANT',\r\n",
    "'INDEPENDENT MANAGEMENT CONSULTANT'"
   ]
  },
  {
   "cell_type": "code",
   "execution_count": 48,
   "metadata": {},
   "outputs": [
    {
     "name": "stderr",
     "output_type": "stream",
     "text": [
      "100%|██████████| 6285/6285 [00:00<00:00, 15439.85it/s]\n",
      "100%|██████████| 6285/6285 [00:00<00:00, 15272.93it/s]\n",
      "100%|██████████| 6285/6285 [00:00<00:00, 15124.36it/s]\n",
      "100%|██████████| 6285/6285 [00:00<00:00, 15443.47it/s]\n",
      "100%|██████████| 6285/6285 [00:00<00:00, 15401.72it/s]\n",
      "100%|██████████| 6285/6285 [00:00<00:00, 15485.64it/s]\n"
     ]
    }
   ],
   "source": [
    "regex1=re.compile(r'^independent\\sconsultant', re.I)\r\n",
    "regex2=re.compile(r'^independent\\sadvis[eo]r', re.I)\r\n",
    "regex3=re.compile(r'^independent\\s?(compensation)?\\s?committee(?!\\sadvisor)', re.I)\r\n",
    "regex4=re.compile(r'^independent compensation consultant (?!advisor)')\r\n",
    "regex5=re.compile(r'^INDEPENDENT\\sCOMPENSATION\\sCOMMITTEE\\sADVISER')\r\n",
    "regex6=re.compile(r'INDEPENDENT MANAGEMENT CONSULTANT')\r\n",
    "for n in range(1,7):\r\n",
    "    from tqdm.auto import tqdm\r\n",
    "\r\n",
    "    for i, row in tqdm(df.iterrows(), total=len(df)):\r\n",
    "        if regex1.search(str(row[f'CC_{n}'])):\r\n",
    "            row[f'CC_{n}']=None\r\n",
    "        if regex2.search(str(row[f'CC_{n}'])):\r\n",
    "            row[f'CC_{n}']=None\r\n",
    "        if regex3.search(str(row[f'CC_{n}'])):\r\n",
    "            row[f'CC_{n}']=None\r\n",
    "        if regex4.search(str(row[f'CC_{n}'])):\r\n",
    "            row[f'CC_{n}']=None\r\n",
    "        if regex5.search(str(row[f'CC_{n}'])):\r\n",
    "            row[f'CC_{n}']='ICCA'\r\n",
    "        if regex6.search(str(row[f'CC_{n}'])):\r\n",
    "            row[f'CC_{n}']=None"
   ]
  },
  {
   "cell_type": "markdown",
   "metadata": {},
   "source": [
    "# J"
   ]
  },
  {
   "cell_type": "code",
   "execution_count": null,
   "metadata": {},
   "outputs": [],
   "source": [
    " 'JAMES F. REDA',\r\n",
    " 'JAMES F. REDA & ASSOCIATES',\r\n",
    " 'JAMES F. REDA & ASSOCIATES LLC',\r\n",
    " 'JAMES F. REDA AND ASSOCIATES',\r\n",
    " \"MR. REDA\"\r\n",
    " 'REDA'\r\n",
    " 'JFR'\r\n",
    "\r\n",
    " 'JOHNSON ASSOCIATES',\r\n",
    " 'JOHNSON ASSOCIATES AND'"
   ]
  },
  {
   "cell_type": "code",
   "execution_count": 49,
   "metadata": {},
   "outputs": [
    {
     "name": "stderr",
     "output_type": "stream",
     "text": [
      "100%|██████████| 6285/6285 [00:00<00:00, 15800.89it/s]\n",
      "100%|██████████| 6285/6285 [00:00<00:00, 16029.32it/s]\n",
      "100%|██████████| 6285/6285 [00:00<00:00, 15957.07it/s]\n",
      "100%|██████████| 6285/6285 [00:00<00:00, 15906.53it/s]\n",
      "100%|██████████| 6285/6285 [00:00<00:00, 16239.19it/s]\n",
      "100%|██████████| 6285/6285 [00:00<00:00, 16234.96it/s]\n"
     ]
    }
   ],
   "source": [
    "import re\r\n",
    "regex1=re.compile(r'JAMES F. REDA')\r\n",
    "regex2=re.compile(r'^REDA$')\r\n",
    "regex3=re.compile(r'^JOHNSON ASSOCIATES')\r\n",
    "for n in range(1,7):\r\n",
    "    from tqdm.auto import tqdm\r\n",
    "\r\n",
    "    for i, row in tqdm(df.iterrows(), total=len(df)):\r\n",
    "        if regex1.search(str(row[f'CC_{n}'])):\r\n",
    "            row[f'CC_{n}']='JAMES F. REDA'\r\n",
    "        if regex2.search(str(row[f'CC_{n}'])):\r\n",
    "            row[f'CC_{n}']='JAMES F. REDA'\r\n",
    "        if regex3.search(str(row[f'CC_{n}'])):\r\n",
    "            row[f'CC_{n}']='JOHNSON ASSOCIATES'\r\n",
    "        if str(row[f'CC_{n}'])=='MR. REDA':\r\n",
    "            row[f'CC_{n}']='JAMES F. REDA'\r\n",
    "        if str(row[f'CC_{n}'])=='JFR':\r\n",
    "            row[f'CC_{n}']='JAMES F. REDA'"
   ]
  },
  {
   "cell_type": "markdown",
   "metadata": {},
   "source": [
    "# P R "
   ]
  },
  {
   "cell_type": "code",
   "execution_count": null,
   "metadata": {},
   "outputs": [],
   "source": [
    " 'PRICEWATERHOUSECOOPERS LLC',\r\n",
    " 'PWC LLP'\r\n",
    " 'Coopers & Lybrand'\r\n",
    "\r\n",
    ",'RADFORD',\r\n",
    " 'RADFORD 2010 EXECUTIVE COMPENSATION',\r\n",
    " 'RADFORD ASSOCIATES',\r\n",
    " 'RADFORD ASSOCIATES EXECUTIVE PAY',\r\n",
    " 'RADFORD CONSULTING'\r\n",
    "\r\n",
    "'REYNOLDS ASSOCIATES'"
   ]
  },
  {
   "cell_type": "code",
   "execution_count": 50,
   "metadata": {},
   "outputs": [
    {
     "name": "stderr",
     "output_type": "stream",
     "text": [
      "100%|██████████| 6285/6285 [00:00<00:00, 15477.15it/s]\n",
      "100%|██████████| 6285/6285 [00:00<00:00, 16032.01it/s]\n",
      "100%|██████████| 6285/6285 [00:00<00:00, 15951.78it/s]\n",
      "100%|██████████| 6285/6285 [00:00<00:00, 16069.52it/s]\n",
      "100%|██████████| 6285/6285 [00:00<00:00, 16052.73it/s]\n",
      "100%|██████████| 6285/6285 [00:00<00:00, 15992.17it/s]\n"
     ]
    }
   ],
   "source": [
    "regex1=re.compile(r'PRICEWATERHOUSECOOPERS')\r\n",
    "regex2=re.compile(r'^PWC\\s')\r\n",
    "regex3=re.compile(r'^RADFORD')\r\n",
    "regex4=re.compile(r'^COOPERS\\s(AND|&)\\sLYBRAND')\r\n",
    "regex5=re.compile(r'^(RUSSELL)?\\s?REYNOLDS\\sASSOCIATES')\r\n",
    "for n in range(1,7):\r\n",
    "    from tqdm.auto import tqdm\r\n",
    "\r\n",
    "    for i, row in tqdm(df.iterrows(), total=len(df)):\r\n",
    "        if regex1.search(str(row[f'CC_{n}'])):\r\n",
    "            row[f'CC_{n}']='PWC'\r\n",
    "        if regex2.search(str(row[f'CC_{n}'])):\r\n",
    "            row[f'CC_{n}']='PWC'\r\n",
    "        if regex3.search(str(row[f'CC_{n}'])):\r\n",
    "            row[f'CC_{n}']='RADFORD'\r\n",
    "        if regex4.search(str(row[f'CC_{n}'])):\r\n",
    "            row[f'CC_{n}']='PWC'\r\n",
    "        if regex5.search(str(row[f'CC_{n}'])):\r\n",
    "            row[f'CC_{n}']='RUSSEL REYNOLDS ASSOCIATES'\r\n",
    "        #if str(row[f'CC_{n}'])=='MR. REDA':\r\n",
    "            #row[f'CC_{n}']='JAMES F. REDA'\r\n"
   ]
  },
  {
   "cell_type": "code",
   "execution_count": null,
   "metadata": {},
   "outputs": [],
   "source": []
  },
  {
   "cell_type": "markdown",
   "metadata": {},
   "source": [
    "# save"
   ]
  },
  {
   "cell_type": "code",
   "execution_count": 55,
   "metadata": {},
   "outputs": [],
   "source": [
    "df.to_pickle('CC_df_all_clean1.pkl')"
   ]
  },
  {
   "cell_type": "markdown",
   "metadata": {},
   "source": [
    "# Load"
   ]
  },
  {
   "cell_type": "code",
   "execution_count": 29,
   "metadata": {},
   "outputs": [],
   "source": [
    "import pandas as pd\r\n",
    "df=pd.read_pickle('CC_df_all_clean1.pkl')\r\n",
    "df.to_csv('CC_df_all_clean1.csv')"
   ]
  },
  {
   "cell_type": "code",
   "execution_count": 24,
   "metadata": {},
   "outputs": [],
   "source": [
    "#df=df.drop(columns=['tic','file_name','CC2'])"
   ]
  },
  {
   "cell_type": "markdown",
   "metadata": {},
   "source": [
    "## CREATE a new column by first making a list and append it to df"
   ]
  },
  {
   "cell_type": "code",
   "execution_count": 56,
   "metadata": {},
   "outputs": [
    {
     "name": "stderr",
     "output_type": "stream",
     "text": [
      "100%|██████████| 6285/6285 [00:00<00:00, 15626.23it/s]\n"
     ]
    }
   ],
   "source": [
    "from tqdm.auto import tqdm\r\n",
    "l=[]\r\n",
    "for i, row in tqdm(df.iterrows(), total=len(df)):\r\n",
    "    s=set((str(row['CC_1']),str(row['CC_2']),str(row['CC_3']),str(row['CC_4']),str(row['CC_5']),str(row['CC_6'])))\r\n",
    "    try:\r\n",
    "        s.remove('None')\r\n",
    "    except: \r\n",
    "        pass\r\n",
    "    l.append(s)"
   ]
  },
  {
   "cell_type": "code",
   "execution_count": 57,
   "metadata": {},
   "outputs": [],
   "source": [
    "df['CC']=l"
   ]
  },
  {
   "cell_type": "code",
   "execution_count": 58,
   "metadata": {},
   "outputs": [],
   "source": [
    "df.to_csv('CC_df_all_clean2.csv')"
   ]
  },
  {
   "cell_type": "code",
   "execution_count": null,
   "metadata": {},
   "outputs": [],
   "source": [
    "pd.options.display.max_rows=10000\r\n",
    "\r\n",
    "pd.options.display.max_colwidth=None"
   ]
  },
  {
   "cell_type": "code",
   "execution_count": null,
   "metadata": {},
   "outputs": [],
   "source": [
    "# keep CC and CC_sentence only\n",
    "column_order = ['CC_sentence', 'CC']\n",
    "df2 = df.reindex(columns=column_order)"
   ]
  },
  {
   "cell_type": "code",
   "execution_count": null,
   "metadata": {},
   "outputs": [],
   "source": [
    "# LEt's see the dataframe\r\n",
    "df2"
   ]
  },
  {
   "cell_type": "code",
   "execution_count": null,
   "metadata": {},
   "outputs": [],
   "source": [
    "#df2.to_pickle('CC_df_all_clean2.pkl')"
   ]
  },
  {
   "cell_type": "code",
   "execution_count": null,
   "metadata": {},
   "outputs": [],
   "source": [
    "df2.loc['1555280','CC_sentence'].loc['2014']"
   ]
  },
  {
   "cell_type": "markdown",
   "metadata": {},
   "source": [
    "## remove duplicates"
   ]
  },
  {
   "cell_type": "code",
   "execution_count": null,
   "metadata": {},
   "outputs": [],
   "source": [
    "It would be better to sort out duplicates in Stata, using \n",
    "- bysort , gen N=_N, \n",
    "- then drop if mi(CC) & N>1\n",
    "for CC change paterns, \n",
    "- sort cik year\n",
    "- by cik: replace var1=0 if var1[_n-1]==1 & var1==1 & var1[_n+1]==0 & var2[_n-1]==0 & var2==1 & var2[_n+1]==1"
   ]
  },
  {
   "cell_type": "code",
   "execution_count": null,
   "metadata": {},
   "outputs": [],
   "source": [
    "l=df2.index.duplicated(keep='last')\n",
    "not_duplicate=~l\n",
    "df3=df2[not_duplicate]"
   ]
  },
  {
   "cell_type": "code",
   "execution_count": null,
   "metadata": {},
   "outputs": [],
   "source": [
    "# check weird results"
   ]
  },
  {
   "cell_type": "code",
   "execution_count": null,
   "metadata": {},
   "outputs": [],
   "source": [
    "cik=input('CIK?')\n",
    "year=input('year')\n",
    "year='20'+year\n",
    "print(cik, year)\n",
    "print(df3.loc[cik,'CC'].loc[year])\n",
    "df3.loc[cik,'CC_sentence'].loc[year]"
   ]
  },
  {
   "cell_type": "code",
   "execution_count": null,
   "metadata": {},
   "outputs": [],
   "source": [
    "df.to_csv('CC_df_all_clean3.csv')"
   ]
  },
  {
   "cell_type": "code",
   "execution_count": null,
   "metadata": {},
   "outputs": [],
   "source": []
  },
  {
   "cell_type": "code",
   "execution_count": null,
   "metadata": {},
   "outputs": [],
   "source": []
  },
  {
   "cell_type": "code",
   "execution_count": null,
   "metadata": {},
   "outputs": [],
   "source": [
    "# to make a list of CC in a column. You can get a list of CCs\n",
    "col_one_list = df['one'].tolist()\n",
    "\n",
    "# create a dummy variable\n",
    "# https://www.geeksforgeeks.org/how-to-create-dummy-variables-in-python-with-pandas/\n",
    "\n",
    "# import required modules\n",
    "import pandas as pd\n",
    "import numpy as np\n",
    "  \n",
    "# create dataset\n",
    "df = pd.DataFrame({'A': ['hello', 'vignan', 'geeks'],\n",
    "                   'B': ['vignan', 'hello', 'hello'],\n",
    "                   'C': [1, 2, 3]})\n",
    "  \n",
    "# display dataset\n",
    "print(df)\n",
    "  \n",
    "# create dymmy variables\n",
    "pd.get_dummies(df)"
   ]
  },
  {
   "cell_type": "code",
   "execution_count": null,
   "metadata": {},
   "outputs": [],
   "source": [
    "# Then, do a running sum by cik.\n",
    "# https://stackoverflow.com/questions/29836477/pandas-create-new-column-with-count-from-groupby\n",
    "df.groupby([\"item\", \"color\"])[\"id\"].transform(\"count\")\n",
    "# https://stackoverflow.com/questions/29791785/python-pandas-add-a-column-to-my-dataframe-that-counts-a-variable\n",
    "df['count'] = df.groupby('group')['group'].transform('count')"
   ]
  },
  {
   "cell_type": "code",
   "execution_count": null,
   "metadata": {},
   "outputs": [],
   "source": [
    "df['CC2']=df['CC2'].apply(cook)"
   ]
  },
  {
   "cell_type": "code",
   "execution_count": null,
   "metadata": {},
   "outputs": [],
   "source": [
    "df.info()"
   ]
  },
  {
   "cell_type": "code",
   "execution_count": null,
   "metadata": {},
   "outputs": [],
   "source": [
    "df_multiCC=df[df['CC2'].apply(lambda x: len(x)>1)]"
   ]
  },
  {
   "cell_type": "code",
   "execution_count": null,
   "metadata": {},
   "outputs": [],
   "source": [
    "df_multiCC.info()"
   ]
  },
  {
   "cell_type": "code",
   "execution_count": null,
   "metadata": {},
   "outputs": [],
   "source": [
    "df_multiCC.loc['66740', 'CC2'].loc['2007']"
   ]
  },
  {
   "cell_type": "code",
   "execution_count": null,
   "metadata": {},
   "outputs": [],
   "source": [
    "list(df_multiCC.loc['66740', 'CC2'].loc['2007'])"
   ]
  },
  {
   "cell_type": "code",
   "execution_count": null,
   "metadata": {},
   "outputs": [],
   "source": []
  },
  {
   "cell_type": "code",
   "execution_count": null,
   "metadata": {},
   "outputs": [],
   "source": [
    "#df_multiCC['CC3']=df_multiCC['CC2'].apply(cook)"
   ]
  },
  {
   "cell_type": "code",
   "execution_count": null,
   "metadata": {},
   "outputs": [],
   "source": []
  },
  {
   "cell_type": "code",
   "execution_count": null,
   "metadata": {},
   "outputs": [],
   "source": [
    "#df_multiCC.loc['66740', 'CC2'].apply(cook)"
   ]
  },
  {
   "cell_type": "code",
   "execution_count": null,
   "metadata": {},
   "outputs": [],
   "source": []
  },
  {
   "cell_type": "code",
   "execution_count": null,
   "metadata": {},
   "outputs": [],
   "source": []
  },
  {
   "cell_type": "code",
   "execution_count": null,
   "metadata": {},
   "outputs": [],
   "source": []
  },
  {
   "cell_type": "code",
   "execution_count": null,
   "metadata": {},
   "outputs": [],
   "source": []
  },
  {
   "cell_type": "code",
   "execution_count": null,
   "metadata": {},
   "outputs": [],
   "source": [
    "pd.options.display.max_rows=1000"
   ]
  },
  {
   "cell_type": "code",
   "execution_count": null,
   "metadata": {},
   "outputs": [],
   "source": [
    "df.loc['874761','CC_sentence'].loc['2009']"
   ]
  },
  {
   "cell_type": "code",
   "execution_count": null,
   "metadata": {},
   "outputs": [],
   "source": [
    "df"
   ]
  },
  {
   "cell_type": "markdown",
   "metadata": {},
   "source": [
    "# check that have multiple CCs"
   ]
  },
  {
   "cell_type": "code",
   "execution_count": null,
   "metadata": {},
   "outputs": [],
   "source": [
    "df.loc['796343', 'CC_sentence'].loc['2012']"
   ]
  },
  {
   "cell_type": "code",
   "execution_count": null,
   "metadata": {},
   "outputs": [],
   "source": [
    "df[df['CC2'].apply(lambda x: len(x)>1)]\n"
   ]
  },
  {
   "cell_type": "code",
   "execution_count": null,
   "metadata": {},
   "outputs": [],
   "source": [
    "df.loc['718877','CC2'].loc['2016']"
   ]
  },
  {
   "cell_type": "code",
   "execution_count": null,
   "metadata": {},
   "outputs": [],
   "source": [
    "df.loc['718877','CC_sentence'].loc['2016']"
   ]
  },
  {
   "cell_type": "code",
   "execution_count": null,
   "metadata": {},
   "outputs": [],
   "source": []
  }
 ],
 "metadata": {
  "interpreter": {
   "hash": "5db0bf8e65298cb01341d1d0401e9d0f1ebbad7939f704a64363986abd13b2a8"
  },
  "kernelspec": {
   "display_name": "Python 3.7.9 64-bit ('nlp': conda)",
   "name": "nlp"
  },
  "language_info": {
   "name": "python",
   "version": ""
  },
  "orig_nbformat": 4
 },
 "nbformat": 4,
 "nbformat_minor": 2
}